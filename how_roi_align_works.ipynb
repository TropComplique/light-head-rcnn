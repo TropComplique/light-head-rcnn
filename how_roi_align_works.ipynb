{
 "cells": [
  {
   "cell_type": "code",
   "execution_count": null,
   "metadata": {},
   "outputs": [],
   "source": [
    "import numpy as np\n",
    "import tensorflow as tf\n",
    "import math\n",
    "\n",
    "import matplotlib.pyplot as plt\n",
    "from matplotlib.patches import Rectangle\n",
    "%matplotlib inline"
   ]
  },
  {
   "cell_type": "code",
   "execution_count": null,
   "metadata": {},
   "outputs": [],
   "source": [
    "H, W = 7, 10\n",
    "IMAGE = np.random.randint(0, 256, size=[H, W, 3], dtype='uint8')\n",
    "BOX = [1/(H - 1), 2/(W - 1), 4/(H - 1), 7/(W - 1)]\n",
    "CROP_SIZE = (4, 6)  # height and width"
   ]
  },
  {
   "cell_type": "code",
   "execution_count": null,
   "metadata": {},
   "outputs": [],
   "source": [
    "def show_image_with_box(box):\n",
    "    _, ax = plt.subplots()\n",
    "    ymin, xmin, ymax, xmax = box\n",
    "    h, w = (ymax - ymin) * (H - 1), (xmax - xmin) * (W - 1)\n",
    "    y, x = ymin * (H - 1), xmin * (W - 1)\n",
    "    ax.add_patch(Rectangle((x, y), w, h, alpha=0.6, facecolor='white', edgecolor='black'))\n",
    "    ax.imshow(IMAGE)\n",
    "    \n",
    "show_image_with_box(BOX)"
   ]
  },
  {
   "cell_type": "markdown",
   "metadata": {},
   "source": [
    "# A simple toy implementation of `crop_and_resize`"
   ]
  },
  {
   "cell_type": "code",
   "execution_count": null,
   "metadata": {},
   "outputs": [],
   "source": [
    "def crop_and_resize(image, box, crop_size):\n",
    "    \"\"\"\n",
    "    It is based on:\n",
    "    https://github.com/longcw/RoIAlign.pytorch/blob/master/roi_align/src/crop_and_resize.c\n",
    "    \n",
    "    Arguments:\n",
    "        image: a float numpy array with shape [height, width, depth].\n",
    "        box: a list of floats with length 4.\n",
    "        crop_size: a tuple of two integers.\n",
    "    Returns:\n",
    "        crop: a float numpy array with shape [crop_height, crop_width, depth].\n",
    "    \"\"\"\n",
    "    \n",
    "    image_height, image_width, depth = image.shape\n",
    "    crop_height, crop_width = crop_size\n",
    "    assert (crop_height > 1) and (crop_width > 1)\n",
    "    crop = np.zeros((crop_height, crop_width, depth), dtype='float32')\n",
    "    \n",
    "    ymin, xmin, ymax, xmax = box\n",
    "    assert (ymin >= 0.0) and (xmin >= 0.0) and (ymax >= 0.0) and (xmax >= 0.0)\n",
    "    assert (ymin <= 1.0) and (xmin <= 1.0) and (ymax <= 1.0) and (xmax <= 1.0)\n",
    "    assert (ymin < ymax) and (xmin < xmax)\n",
    "    \n",
    "    height_scale = (ymax - ymin) * (image_height - 1) / (crop_height - 1)\n",
    "    width_scale = (xmax - xmin) * (image_width - 1) / (crop_width - 1)\n",
    "\n",
    "    for y in range(0, crop_height):\n",
    "        in_y = ymin * (image_height - 1) + y * height_scale\n",
    "        assert (in_y >= 0) and (in_y <= image_height - 1)\n",
    "    \n",
    "        top_y_index = math.floor(in_y)\n",
    "        bottom_y_index = math.ceil(in_y)\n",
    "        y_lerp = in_y - top_y_index\n",
    "        # \"lerp\" - linear interpolation, see:\n",
    "        # https://en.wikipedia.org/wiki/Linear_interpolation#Applications\n",
    "        \n",
    "        for x in range(0, crop_width):\n",
    "            in_x = xmin * (image_width - 1) + x * width_scale\n",
    "            assert (in_x >= 0) and (in_x <= image_width - 1)               \n",
    "                \n",
    "            left_x_index = math.floor(in_x)\n",
    "            right_x_index = math.ceil(in_x)\n",
    "            x_lerp = in_x - left_x_index\n",
    "\n",
    "            for d in range(0, depth): \n",
    "\n",
    "                top_left = image[top_y_index, left_x_index, d]\n",
    "                top_right = image[top_y_index, right_x_index, d]\n",
    "                bottom_left = image[bottom_y_index, left_x_index, d]\n",
    "                bottom_right = image[bottom_y_index, right_x_index, d]\n",
    "\n",
    "                top = top_left + (top_right - top_left) * x_lerp;\n",
    "                bottom = bottom_left + (bottom_right - bottom_left) * x_lerp;\n",
    "\n",
    "                crop[y, x, d] = top + (bottom - top) * y_lerp\n",
    "\n",
    "    return crop"
   ]
  },
  {
   "cell_type": "code",
   "execution_count": null,
   "metadata": {
    "scrolled": true
   },
   "outputs": [],
   "source": [
    "result1 = crop_and_resize(IMAGE.astype('float32'), BOX, CROP_SIZE)\n",
    "plt.imshow(result1.astype('uint8'));"
   ]
  },
  {
   "cell_type": "code",
   "execution_count": null,
   "metadata": {},
   "outputs": [],
   "source": [
    "show_image_with_box(BOX)"
   ]
  },
  {
   "cell_type": "markdown",
   "metadata": {},
   "source": [
    "# Compare with tensorflow"
   ]
  },
  {
   "cell_type": "code",
   "execution_count": null,
   "metadata": {},
   "outputs": [],
   "source": [
    "def tf_crop_and_resize(image, box, crop_size):\n",
    "    tf.reset_default_graph()\n",
    "    image = np.expand_dims(image, 0)\n",
    "    image = tf.constant(image)\n",
    "    crop = tf.image.crop_and_resize(image, boxes=[box], box_ind=[0], crop_size=crop_size)\n",
    "    with tf.Session() as sess:\n",
    "        crop = sess.run(crop)[0]\n",
    "    return crop"
   ]
  },
  {
   "cell_type": "code",
   "execution_count": null,
   "metadata": {},
   "outputs": [],
   "source": [
    "result2 = tf_crop_and_resize(IMAGE.astype('float32'), BOX, CROP_SIZE)\n",
    "plt.imshow(result2.astype('uint8'));"
   ]
  },
  {
   "cell_type": "code",
   "execution_count": null,
   "metadata": {},
   "outputs": [],
   "source": [
    "np.isclose(result1, result2, atol=1e-8).all()"
   ]
  },
  {
   "cell_type": "markdown",
   "metadata": {},
   "source": [
    "# ROI Align"
   ]
  },
  {
   "cell_type": "markdown",
   "metadata": {},
   "source": [
    "See:\n",
    "1. https://github.com/longcw/RoIAlign.pytorch/blob/master/roi_align/roi_align.py\n",
    "2. https://github.com/tensorpack/tensorpack/blob/master/examples/FasterRCNN/NOTES.md\n",
    "3. https://github.com/tensorpack/tensorpack/issues/542"
   ]
  },
  {
   "cell_type": "code",
   "execution_count": null,
   "metadata": {},
   "outputs": [],
   "source": [
    "def show_image_with_box_correctly(box):\n",
    "    _, ax = plt.subplots()\n",
    "    ymin, xmin, ymax, xmax = box\n",
    "    \n",
    "    h, w = (ymax - ymin) * H, (xmax - xmin) * W\n",
    "    y, x = ymin * H, xmin * W\n",
    "    y, x = y - 0.5, x - 0.5\n",
    "\n",
    "    ax.add_patch(Rectangle((x, y), w, h, alpha=0.6, facecolor='white', edgecolor='black'))\n",
    "    ax.imshow(IMAGE)  "
   ]
  },
  {
   "cell_type": "code",
   "execution_count": null,
   "metadata": {},
   "outputs": [],
   "source": [
    "ANOTHER_CROP_SIZE = (3, 4)"
   ]
  },
  {
   "cell_type": "code",
   "execution_count": null,
   "metadata": {},
   "outputs": [],
   "source": [
    "# ANOTHER_BOX = [0, 0, 3/(H - 1), 4/(W - 1)]\n",
    "ANOTHER_BOX = [0, 0, 3/7, 4/10]\n",
    "\n",
    "show_image_with_box_correctly(ANOTHER_BOX)"
   ]
  },
  {
   "cell_type": "code",
   "execution_count": null,
   "metadata": {},
   "outputs": [],
   "source": [
    "ymin, xmin, ymax, xmax = ANOTHER_BOX\n",
    "crop_height, crop_width = ANOTHER_CROP_SIZE\n",
    "\n",
    "spacing_h = (ymax - ymin) * H / crop_height\n",
    "spacing_w = (xmax - xmin) * W / crop_width\n",
    "\n",
    "nymin = (ymin*(image_height - 1) + (spacing_h*0.5)) / (H - 1)\n",
    "nxmin = (xmin*(image_width - 1) + (spacing_w*0.5)) / (W - 1)\n",
    "nh = spacing_h * (crop_height - 1) / (H - 1)\n",
    "nw = spacing_w * (crop_width - 1) / (W - 1)\n",
    "box = [nymin, nxmin, nymin + nh, nxmin + nw]\n",
    "\n",
    "crop = tf_crop_and_resize(IMAGE.astype('float32'), box, ANOTHER_CROP_SIZE)\n",
    "plt.imshow(crop.astype('uint8'));"
   ]
  },
  {
   "cell_type": "code",
   "execution_count": null,
   "metadata": {},
   "outputs": [],
   "source": [
    "show_image_with_box(box)"
   ]
  },
  {
   "cell_type": "code",
   "execution_count": null,
   "metadata": {},
   "outputs": [],
   "source": [
    "np.isclose(crop, IMAGE[1:4, 1:5, :], atol=1.0).all()"
   ]
  }
 ],
 "metadata": {
  "kernelspec": {
   "display_name": "Python 3",
   "language": "python",
   "name": "python3"
  },
  "language_info": {
   "codemirror_mode": {
    "name": "ipython",
    "version": 3
   },
   "file_extension": ".py",
   "mimetype": "text/x-python",
   "name": "python",
   "nbconvert_exporter": "python",
   "pygments_lexer": "ipython3",
   "version": "3.6.3"
  }
 },
 "nbformat": 4,
 "nbformat_minor": 2
}
