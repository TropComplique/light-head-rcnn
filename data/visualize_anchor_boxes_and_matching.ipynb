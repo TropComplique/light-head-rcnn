{
 "cells": [
  {
   "cell_type": "code",
   "execution_count": null,
   "metadata": {},
   "outputs": [],
   "source": [
    "%load_ext autoreload\n",
    "%autoreload 2"
   ]
  },
  {
   "cell_type": "code",
   "execution_count": null,
   "metadata": {},
   "outputs": [],
   "source": [
    "import numpy as np\n",
    "import tensorflow as tf\n",
    "import math\n",
    "from PIL import Image, ImageDraw\n",
    "import matplotlib.pyplot as plt\n",
    "%matplotlib inline\n",
    "\n",
    "import sys\n",
    "sys.path.append('..')\n",
    "from detector.rpn import generate_anchors\n",
    "from detector.utils import prune_outside_window\n",
    "from detector.training_target_creation import create_targets, match_boxes\n",
    "from detector.input_pipeline import Pipeline\n",
    "from params import coco_params"
   ]
  },
  {
   "cell_type": "code",
   "execution_count": null,
   "metadata": {},
   "outputs": [],
   "source": [
    "def draw_boxes(image, boxes, color='red'):\n",
    "    image_copy = image.copy()\n",
    "    draw = ImageDraw.Draw(image_copy, 'RGBA')\n",
    "    for box in boxes:\n",
    "        ymin, xmin, ymax, xmax = box\n",
    "        fill = (255, 255, 255, 10)\n",
    "        outline = color\n",
    "        draw.rectangle(\n",
    "            [(xmin, ymin), (xmax, ymax)],\n",
    "            fill=fill, outline=outline\n",
    "        )\n",
    "    return image_copy"
   ]
  },
  {
   "cell_type": "markdown",
   "metadata": {},
   "source": [
    "# Create a graph"
   ]
  },
  {
   "cell_type": "code",
   "execution_count": null,
   "metadata": {},
   "outputs": [],
   "source": [
    "tf.reset_default_graph()\n",
    "\n",
    "pipeline = Pipeline(\n",
    "    ['/mnt/datasets/COCO/val_shards/shard-0000.tfrecords'],\n",
    "    is_training=True, params=coco_params\n",
    ")\n",
    "iterator = pipeline.dataset.make_one_shot_iterator()\n",
    "features, labels = iterator.get_next()\n",
    "\n",
    "\n",
    "stride = 32\n",
    "image = features['images'][0]\n",
    "image_width, image_height = tf.shape(image)[1], tf.shape(image)[0]\n",
    "width, height = tf.to_int32(tf.ceil(image_width/stride)), tf.to_int32(tf.ceil(image_height/stride))\n",
    "\n",
    "\n",
    "raw_anchors = generate_anchors(\n",
    "    (width, height), scales=[32, 64, 128, 256, 512],\n",
    "    aspect_ratios=[1.0],\n",
    "    anchor_stride=(stride, stride), anchor_offset=(0, 0)\n",
    ")\n",
    "anchors = tf.reshape(raw_anchors, [-1, 4])\n",
    "window = tf.to_float(tf.stack([0, 0, image_height - 1, image_width - 1]))\n",
    "anchors, _ = prune_outside_window(anchors, window)\n",
    "\n",
    "\n",
    "groundtruth_boxes = labels['boxes'][0]\n",
    "groundtruth_labels  = labels['labels'][0]\n",
    "N = tf.shape(groundtruth_boxes)[0]\n",
    "num_anchors = tf.shape(anchors)[0]\n",
    "only_background = tf.fill([num_anchors], -1)\n",
    "matches = tf.cond(\n",
    "    tf.greater(N, 0),\n",
    "    lambda: match_boxes(\n",
    "        anchors, groundtruth_boxes,\n",
    "        positives_threshold=0.5,\n",
    "        negatives_threshold=0.3,\n",
    "        force_match_groundtruth=True\n",
    "    ),\n",
    "    lambda: only_background\n",
    ")\n",
    "\n",
    "\n",
    "anchor_matches = tf.to_int32(matches)\n",
    "rpn_reg_targets, _ = create_targets(\n",
    "    anchors, groundtruth_boxes,\n",
    "    groundtruth_labels, anchor_matches\n",
    ")"
   ]
  },
  {
   "cell_type": "code",
   "execution_count": null,
   "metadata": {},
   "outputs": [],
   "source": [
    "with tf.Session() as sess:\n",
    "    result = sess.run({\n",
    "        'image': image, \n",
    "        'anchors': anchors,\n",
    "        'raw_anchors': raw_anchors,\n",
    "        'matches': anchor_matches, \n",
    "        'boxes': groundtruth_boxes,\n",
    "        'targets': rpn_reg_targets,\n",
    "    })    \n",
    "matched = np.where(result['matches'] >= 0)[0]"
   ]
  },
  {
   "cell_type": "markdown",
   "metadata": {},
   "source": [
    "# Draw"
   ]
  },
  {
   "cell_type": "code",
   "execution_count": null,
   "metadata": {
    "scrolled": false
   },
   "outputs": [],
   "source": [
    "i = Image.fromarray((255.0*result['image']).astype('uint8'))\n",
    "i = draw_boxes(i, result['boxes'], color='red')\n",
    "draw_boxes(i, result['anchors'][matched], color='blue')"
   ]
  },
  {
   "cell_type": "markdown",
   "metadata": {},
   "source": [
    "# Show non clipped anchors"
   ]
  },
  {
   "cell_type": "code",
   "execution_count": null,
   "metadata": {},
   "outputs": [],
   "source": [
    "ymin, xmin, ymax, xmax = [result['raw_anchors'][:, :, :, i] for i in range(4)]\n",
    "\n",
    "h, w = (ymax - ymin), (xmax - xmin)\n",
    "cy, cx = ymin + 0.5*h, xmin + 0.5*w\n",
    "\n",
    "centers = np.stack([cy, cx], axis=3)\n",
    "anchor_sizes = np.stack([h, w], axis=3)"
   ]
  },
  {
   "cell_type": "code",
   "execution_count": null,
   "metadata": {
    "scrolled": false
   },
   "outputs": [],
   "source": [
    "image_h, image_w, _ = result['image'].shape\n",
    "fig, ax = plt.subplots(1, dpi=100, figsize=(int(5*image_w/image_h), 5))\n",
    "unique_centers = centers[:, :, 0, :].reshape(-1, 2)\n",
    "unique_sizes = anchor_sizes[0, 0, :, :]\n",
    "\n",
    "i = 300\n",
    "for j, point in enumerate(unique_centers):\n",
    "    cy, cx = point\n",
    "    color = 'g' if j == i else 'r' \n",
    "    ax.plot([cx], [cy], marker='o', markersize=3, color=color)\n",
    "\n",
    "cy, cx = unique_centers[i] \n",
    "for box in unique_sizes:\n",
    "    h, w = box\n",
    "    xmin, ymin = cx - 0.5*w, cy - 0.5*h\n",
    "    rect = plt.Rectangle(\n",
    "        (xmin, ymin), w, h,\n",
    "        linewidth=1.0, edgecolor='k', facecolor='none'\n",
    "    )\n",
    "    ax.add_patch(rect)\n",
    "\n",
    "plt.xlim([0, image_w]);\n",
    "plt.ylim([0, image_h]);"
   ]
  }
 ],
 "metadata": {
  "kernelspec": {
   "display_name": "Python 3",
   "language": "python",
   "name": "python3"
  },
  "language_info": {
   "codemirror_mode": {
    "name": "ipython",
    "version": 3
   },
   "file_extension": ".py",
   "mimetype": "text/x-python",
   "name": "python",
   "nbconvert_exporter": "python",
   "pygments_lexer": "ipython3",
   "version": "3.6.3"
  }
 },
 "nbformat": 4,
 "nbformat_minor": 2
}
