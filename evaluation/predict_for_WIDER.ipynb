{
 "cells": [
  {
   "cell_type": "code",
   "execution_count": null,
   "metadata": {},
   "outputs": [],
   "source": [
    "%load_ext autoreload\n",
    "%autoreload 2"
   ]
  },
  {
   "cell_type": "code",
   "execution_count": null,
   "metadata": {},
   "outputs": [],
   "source": [
    "import numpy as np\n",
    "import os\n",
    "import cv2\n",
    "from tqdm import tqdm\n",
    "import random\n",
    "import shutil\n",
    "\n",
    "import sys\n",
    "sys.path.append('../inference/')\n",
    "from face_detector import FaceDetector"
   ]
  },
  {
   "cell_type": "code",
   "execution_count": null,
   "metadata": {},
   "outputs": [],
   "source": [
    "IMAGES_DIR = '/home/gpu2/hdd/dan/WIDER/WIDER_val/images/'\n",
    "MODEL_PATH = '../model.pb'\n",
    "\n",
    "# you will need the content of this folder \n",
    "# for the official evaluation script\n",
    "RESULT_DIR = 'result_wider/'"
   ]
  },
  {
   "cell_type": "markdown",
   "metadata": {},
   "source": [
    "# Collect paths to images"
   ]
  },
  {
   "cell_type": "code",
   "execution_count": null,
   "metadata": {},
   "outputs": [],
   "source": [
    "all_paths = []\n",
    "for path, subdirs, files in tqdm(os.walk(IMAGES_DIR)):\n",
    "    for name in files:\n",
    "        all_paths.append(os.path.join(path, name))\n",
    "        \n",
    "relative_paths = [os.path.relpath(p, IMAGES_DIR) for p in all_paths]"
   ]
  },
  {
   "cell_type": "markdown",
   "metadata": {},
   "source": [
    "# Predict using the trained detector"
   ]
  },
  {
   "cell_type": "code",
   "execution_count": null,
   "metadata": {},
   "outputs": [],
   "source": [
    "face_detector = FaceDetector(MODEL_PATH, gpu_memory_fraction=0.5, visible_device_list='1')"
   ]
  },
  {
   "cell_type": "code",
   "execution_count": null,
   "metadata": {},
   "outputs": [],
   "source": [
    "predictions = []\n",
    "for path in tqdm(all_paths):\n",
    "    image_array = cv2.imread(path)\n",
    "    image_array = cv2.cvtColor(image_array, cv2.COLOR_BGR2RGB)\n",
    "    boxes, scores = face_detector(image_array, score_threshold=0.01)\n",
    "    predictions.append((boxes, scores))"
   ]
  },
  {
   "cell_type": "code",
   "execution_count": null,
   "metadata": {},
   "outputs": [],
   "source": [
    "shutil.rmtree(RESULT_DIR, ignore_errors=True)\n",
    "os.mkdir(RESULT_DIR)\n",
    "\n",
    "for (boxes, scores), path in zip(predictions, relative_paths):\n",
    "    \n",
    "    assert path.endswith('.jpg')\n",
    "    file_path = os.path.join(RESULT_DIR, path)[:-4] + '.txt'\n",
    "    name = path.split('/')[-1][:-4]\n",
    "    \n",
    "    directory = os.path.dirname(file_path)\n",
    "    if not os.path.exists(directory):\n",
    "        os.makedirs(directory)\n",
    "    \n",
    "    with open(file_path, 'w') as f:\n",
    "        \n",
    "        f.write(name + '\\n')\n",
    "        f.write(str(len(boxes)) + '\\n')\n",
    "        \n",
    "        for b, s in zip(boxes, scores):\n",
    "            ymin, xmin, ymax, xmax = b\n",
    "            h, w = int(ymax - ymin), int(xmax - xmin)\n",
    "            f.write('{0} {1} {2} {3} {4:.4f}\\n'.format(int(xmin), int(ymin), w, h, s))"
   ]
  }
 ],
 "metadata": {
  "kernelspec": {
   "display_name": "Python 3",
   "language": "python",
   "name": "python3"
  },
  "language_info": {
   "codemirror_mode": {
    "name": "ipython",
    "version": 3
   },
   "file_extension": ".py",
   "mimetype": "text/x-python",
   "name": "python",
   "nbconvert_exporter": "python",
   "pygments_lexer": "ipython3",
   "version": "3.6.3"
  }
 },
 "nbformat": 4,
 "nbformat_minor": 1
}
