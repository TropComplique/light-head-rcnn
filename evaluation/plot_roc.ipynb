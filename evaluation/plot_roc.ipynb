{
 "cells": [
  {
   "cell_type": "code",
   "execution_count": null,
   "metadata": {},
   "outputs": [],
   "source": [
    "import pandas as pd\n",
    "import matplotlib.pyplot as plt\n",
    "import seaborn as sns\n",
    "import numpy as np\n",
    "sns.set_style('whitegrid')\n",
    "%matplotlib inline"
   ]
  },
  {
   "cell_type": "code",
   "execution_count": null,
   "metadata": {},
   "outputs": [],
   "source": [
    "roc = pd.read_csv('discrete-ROC-step-240000.txt', sep=' ', header=None)\n",
    "roc.columns = ['tpr', 'fp', 'threshold']"
   ]
  },
  {
   "cell_type": "code",
   "execution_count": null,
   "metadata": {},
   "outputs": [],
   "source": [
    "def plot_roc():\n",
    "    _, axis = plt.subplots(nrows=1, ncols=1, figsize=(7, 4), dpi=120)\n",
    "    axis.plot(roc.fp, roc.tpr, c='r', linewidth=2.0);\n",
    "    axis.set_title('Discrete Score ROC')\n",
    "    axis.set_xlim([0, 2000.0])\n",
    "    axis.set_ylim([0.6, 1.0])\n",
    "    axis.set_xlabel('False Positives')\n",
    "    axis.set_ylabel('True Positive Rate');\n",
    "\n",
    "plot_roc()"
   ]
  },
  {
   "cell_type": "code",
   "execution_count": null,
   "metadata": {},
   "outputs": [],
   "source": [
    "import scipy.io\n",
    "mat = scipy.io.loadmat('eval_tools/plot/baselines/Val/setting_int/LightHeadRCNN/wider_pr_info_LightHeadRCNN_easy_val.mat')"
   ]
  },
  {
   "cell_type": "code",
   "execution_count": null,
   "metadata": {},
   "outputs": [],
   "source": [
    "pr = mat['pr_cruve']\n",
    "rec = pr[:, 1]\n",
    "prec = pr[:, 0]"
   ]
  },
  {
   "cell_type": "code",
   "execution_count": null,
   "metadata": {},
   "outputs": [],
   "source": [
    "compute_ap(prec, rec)"
   ]
  },
  {
   "cell_type": "code",
   "execution_count": null,
   "metadata": {},
   "outputs": [],
   "source": [
    "def voc_ap(rec, prec):\n",
    "    \n",
    "    mrec = np.concatenate([[0.0], rec, [1.0]])\n",
    "    mpre = np.concatenate([[0.0], prec, [0.0]])\n",
    "    n = len(prec)\n",
    "    for i in reversed(range(n - 1)):\n",
    "        mpre[i] = max(mpre[i], mpre[i+1]);\n",
    "\n",
    "    i=find(mrec(2:end)~=mrec(1:end-1))+1;\n",
    "    ap=sum((mrec(i)-mrec(i-1)).*mpre(i));"
   ]
  },
  {
   "cell_type": "code",
   "execution_count": null,
   "metadata": {},
   "outputs": [],
   "source": [
    "def compute_ap(precision, recall):\n",
    "    previous_recall_value = 0.0\n",
    "    ap = 0.0\n",
    "    # recall is in increasing order\n",
    "    for p, r in zip(precision, recall):\n",
    "        delta = r - previous_recall_value\n",
    "        ap += p*delta\n",
    "        previous_recall_value = r\n",
    "    return ap"
   ]
  },
  {
   "cell_type": "code",
   "execution_count": null,
   "metadata": {
    "scrolled": true
   },
   "outputs": [],
   "source": [
    "plt.plot(pr[:, 0], pr[:, 1])"
   ]
  }
 ],
 "metadata": {
  "kernelspec": {
   "display_name": "Python 3",
   "language": "python",
   "name": "python3"
  },
  "language_info": {
   "codemirror_mode": {
    "name": "ipython",
    "version": 3
   },
   "file_extension": ".py",
   "mimetype": "text/x-python",
   "name": "python",
   "nbconvert_exporter": "python",
   "pygments_lexer": "ipython3",
   "version": "3.6.3"
  }
 },
 "nbformat": 4,
 "nbformat_minor": 2
}
